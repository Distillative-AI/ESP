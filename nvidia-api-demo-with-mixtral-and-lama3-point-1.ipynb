# Elastic Supertransformation Platform Demo: Calling nvapi from Elastic Provisioner Transformer

This notebook demonstrates how to use `nvapi` with an elastic provisioner to generate output from a model. We will provide examples using different models.

## Prerequisites

Ensure that you have `nvapi` and `eprov` installed and properly configured in your environment.

## Basic Example

We'll start with a basic example that echoes a rhyme about GPUs using the specified model.

```python
import subprocess

# Define the function to run the command
def run_nvapi_command():
    # Define the command
    command = 'echo "make a rhyme about GPUs" | eprov ept nvapi::model=mistralai/mixtral-8x22b-instruct-v0.1'
    
    # Execute the command
    result = subprocess.run(command, shell=True, capture_output=True, text=True)
    
    # Return the result
    return result.stdout

# Run the function and display the result
output = run_nvapi_command()
print("Command Output:\n", output)
```

## Example with Multiple Models

You can specify multiple models in a single `nvapi::` call by enclosing them in single quotes after the `::`. In this example, we use both the `mixtral` model and the default NVIDIA model.

```python
def run_nvapi_with_multiple_models():
    # Define the command with multiple models
    command = (
        'echo "make a rhyme about GPUs" | '
        'eprov ept nvapi::\'model=mistralai/mixtral-8x22b-instruct-v0.1 model=nvidia/default-model\''
    )
    
    # Execute the command
    result = subprocess.run(command, shell=True, capture_output=True, text=True)
    
    # Return the result
    return result.stdout

# Run the function and display the result
output = run_nvapi_with_multiple_models()
print("Command Output:\n", output)
```

### Information on NVIDIA Parameters

To better understand the parameters, let's read the provided file and display its contents.

```python
# Read and display the content of the uploaded file
file_path = '/mnt/data/nvapi-2024072519'

with open(file_path, 'r') as file:
    content = file.read()

print("File Content:\n", content)
```

## Conclusion

This notebook provides a basic guide to using `nvapi` with an elastic provisioner, along with examples of specifying different models. Customize the commands and parameters as needed for your specific use case.

This notebook focuses on:
- Specifying different models, including both `mixtral` and the default NVIDIA model, in a single call.
- A section to read and display the content of the uploaded file for additional information.
